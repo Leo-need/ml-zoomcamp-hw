{
 "cells": [
  {
   "cell_type": "code",
   "execution_count": 2,
   "id": "80ffb693-12d8-4294-815d-389341280c09",
   "metadata": {},
   "outputs": [],
   "source": [
    "import pandas as pd"
   ]
  },
  {
   "cell_type": "code",
   "execution_count": null,
   "id": "0414a6cc-f518-4c51-809f-59521faf0a2e",
   "metadata": {},
   "outputs": [],
   "source": []
  },
  {
   "cell_type": "code",
   "execution_count": 3,
   "id": "6700f796-7086-44f3-99c6-288164efdd4a",
   "metadata": {},
   "outputs": [
    {
     "data": {
      "text/plain": [
       "'2.2.3'"
      ]
     },
     "execution_count": 3,
     "metadata": {},
     "output_type": "execute_result"
    }
   ],
   "source": [
    "pd.__version__"
   ]
  },
  {
   "cell_type": "code",
   "execution_count": 5,
   "id": "00874f21-f3a3-48dc-af80-4eb12fd644b3",
   "metadata": {},
   "outputs": [],
   "source": [
    "df = pd.read_csv('laptops.csv')"
   ]
  },
  {
   "cell_type": "code",
   "execution_count": 23,
   "id": "64ad68b7-1393-4948-ae97-a74fe2cb695d",
   "metadata": {},
   "outputs": [
    {
     "data": {
      "text/plain": [
       "0         Asus\n",
       "1       Alurin\n",
       "2         Asus\n",
       "3          MSI\n",
       "4           HP\n",
       "         ...  \n",
       "2155     Razer\n",
       "2156     Razer\n",
       "2157     Razer\n",
       "2158     Razer\n",
       "2159     Razer\n",
       "Name: Brand, Length: 2160, dtype: object"
      ]
     },
     "execution_count": 23,
     "metadata": {},
     "output_type": "execute_result"
    }
   ],
   "source": [
    "df['Brand']"
   ]
  }
 ],
 "metadata": {
  "kernelspec": {
   "display_name": "Python 3 (ipykernel)",
   "language": "python",
   "name": "python3"
  },
  "language_info": {
   "codemirror_mode": {
    "name": "ipython",
    "version": 3
   },
   "file_extension": ".py",
   "mimetype": "text/x-python",
   "name": "python",
   "nbconvert_exporter": "python",
   "pygments_lexer": "ipython3",
   "version": "3.12.1"
  }
 },
 "nbformat": 4,
 "nbformat_minor": 5
}
